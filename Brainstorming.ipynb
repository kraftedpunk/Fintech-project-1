{
 "cells": [
  {
   "cell_type": "code",
   "execution_count": null,
   "id": "5cb77f8e",
   "metadata": {},
   "outputs": [],
   "source": [
    "#TITLE: Omni_Krypto_10"
   ]
  },
  {
   "cell_type": "code",
   "execution_count": null,
   "id": "815d57bb",
   "metadata": {},
   "outputs": [],
   "source": [
    "#Project Team Members: Chris Diaz, Jaime Leon, Yutika Misra, Griselda Ramos"
   ]
  },
  {
   "cell_type": "markdown",
   "id": "d04d77e9",
   "metadata": {},
   "source": [
    "#Motivation & Summary Slide\n",
    "\n",
    "Define the core message or hypothesis of your project.\n",
    "\n",
    "    Due to the spike of the cryptocurrency market (aka Crypto-boom), many investors have been pivoting away from traditional\n",
    "stock and bond portfolios and allocating their assets into various cryptocurrencies. Cryptocurrency by nature is high risk,\n",
    "high reward, yet the question remains, what coin should I invest in?\n",
    "\n",
    "    Many investors want to invest in crypto however do not have the time or resources to do the proper due diligence\n",
    "neccessary to create a diversified \"crypto\" portfolio. Our project is focused on developing three different crypto-currency portfolios ranging from conservative to high risk. Our goal is to present analysis for the investor to choose a uniquely\n",
    "designed portfolio that best fits their risk tolerance and investment needs.\n",
    "\n",
    "    Omni_Krypto_10 is separated into three distinct portfolios: Omni-Krypto Blue (Conservative), Omni-Krypto Yellow (Moderate), and Omni-Krypto Green (Aggressive).\n",
    "        \n",
    "\n",
    "We have run analysis on 10 coins that will be utilized in each portfolio. \n",
    "    \n",
    "\n",
    "Describe the questions you asked, and why you asked them.\n",
    "Describe whether you were able to answer these questions to your satisfaction, and briefly summarize your findings.\n"
   ]
  },
  {
   "cell_type": "code",
   "execution_count": null,
   "id": "1148b417",
   "metadata": {},
   "outputs": [],
   "source": [
    "#Questions & Data\n",
    "\n",
    "##Elaborate on the questions you asked, describing what kinds of data you needed to answer them and where you found it."
   ]
  },
  {
   "cell_type": "code",
   "execution_count": null,
   "id": "b39073ec",
   "metadata": {},
   "outputs": [],
   "source": [
    "#Data Cleanup & Exploration\n",
    "\n",
    "##Describe the exploration and cleanup process.\n",
    "##Discuss insights you had while exploring the data that you didn't anticipate.\n",
    "##Discuss any problems that arose after exploring the data, and how you resolved them.\n",
    "##Present and discuss interesting figures developed during exploration, ideally with the help of Jupyter Notebook."
   ]
  },
  {
   "cell_type": "code",
   "execution_count": null,
   "id": "e418f4de",
   "metadata": {},
   "outputs": [],
   "source": [
    "#Data Analysis\n",
    "\n",
    "##Discuss the steps you took to analyze the data and answer each question you asked in your proposal.\n",
    "##Present and discuss interesting figures developed during analysis, ideally with the help of Jupyter Notebook."
   ]
  },
  {
   "cell_type": "code",
   "execution_count": null,
   "id": "9fddac77",
   "metadata": {},
   "outputs": [],
   "source": [
    "#Postmortem\n",
    "\n",
    "##Discuss any difficulties that arose, and how you dealt with them.\n",
    "##Discuss any additional questions that came up, but which you didn't have time to answer: \n",
    "##What would you research next, if you had two more weeks?"
   ]
  },
  {
   "cell_type": "code",
   "execution_count": null,
   "id": "daffd0a6",
   "metadata": {},
   "outputs": [],
   "source": [
    "#Questions\n",
    "\n",
    "##Open-floor Q&A with the audience"
   ]
  }
 ],
 "metadata": {
  "kernelspec": {
   "display_name": "Python [conda env:pyvizenv] *",
   "language": "python",
   "name": "conda-env-pyvizenv-py"
  },
  "language_info": {
   "codemirror_mode": {
    "name": "ipython",
    "version": 3
   },
   "file_extension": ".py",
   "mimetype": "text/x-python",
   "name": "python",
   "nbconvert_exporter": "python",
   "pygments_lexer": "ipython3",
   "version": "3.7.11"
  }
 },
 "nbformat": 4,
 "nbformat_minor": 5
}
