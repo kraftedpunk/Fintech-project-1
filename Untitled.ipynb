{
 "cells": [
  {
   "cell_type": "code",
   "execution_count": null,
   "id": "ccf3590f",
   "metadata": {},
   "outputs": [],
   "source": [
    "# Calculate daily returns, drop Nas, & Display sample data\n",
    "gr_portfolio_daily_returns = gr_portfolio.pct_change().dropna()\n",
    "gr_portfolio_daily_returns.head()"
   ]
  },
  {
   "cell_type": "code",
   "execution_count": null,
   "id": "a808d62a",
   "metadata": {},
   "outputs": [],
   "source": [
    "# Set weights\n",
    "weights = [.33, .33, .33]\n",
    "\n",
    "# Calculate portfolio return & Display sample data\n",
    "gr_portfolio_returns= gr_portfolio_daily_returns.dot(weights)\n",
    "gr_portfolio_returns.head()"
   ]
  },
  {
   "cell_type": "code",
   "execution_count": null,
   "id": "56b54250",
   "metadata": {},
   "outputs": [],
   "source": [
    "#Calculate and plot the correlation\n",
    "correlation = joined_data.corr()\n",
    "\n",
    "correlation.style.background_gradient(cmap=\"winter\")"
   ]
  }
 ],
 "metadata": {
  "kernelspec": {
   "display_name": "Python 3 (ipykernel)",
   "language": "python",
   "name": "python3"
  },
  "language_info": {
   "codemirror_mode": {
    "name": "ipython",
    "version": 3
   },
   "file_extension": ".py",
   "mimetype": "text/x-python",
   "name": "python",
   "nbconvert_exporter": "python",
   "pygments_lexer": "ipython3",
   "version": "3.7.11"
  }
 },
 "nbformat": 4,
 "nbformat_minor": 5
}
